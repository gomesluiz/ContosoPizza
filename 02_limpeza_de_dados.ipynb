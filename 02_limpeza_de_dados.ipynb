{
  "nbformat": 4,
  "nbformat_minor": 0,
  "metadata": {
    "colab": {
      "provenance": [],
      "authorship_tag": "ABX9TyMCSzRBh8Wh8KAAn331IHwT",
      "include_colab_link": true
    },
    "kernelspec": {
      "name": "python3",
      "display_name": "Python 3"
    },
    "language_info": {
      "name": "python"
    }
  },
  "cells": [
    {
      "cell_type": "markdown",
      "metadata": {
        "id": "view-in-github",
        "colab_type": "text"
      },
      "source": [
        "<a href=\"https://colab.research.google.com/github/gomesluiz/ContosoPizza/blob/main/02_limpeza_de_dados.ipynb\" target=\"_parent\"><img src=\"https://colab.research.google.com/assets/colab-badge.svg\" alt=\"Open In Colab\"/></a>"
      ]
    },
    {
      "cell_type": "code",
      "execution_count": 62,
      "metadata": {
        "colab": {
          "base_uri": "https://localhost:8080/"
        },
        "id": "SkOKv2Cjg0fe",
        "outputId": "e7544768-0fe0-4b38-851a-93a3b7eaf4bd"
      },
      "outputs": [
        {
          "output_type": "stream",
          "name": "stdout",
          "text": [
            "Requirement already satisfied: beautifulsoup4 in /usr/local/lib/python3.10/dist-packages (4.12.3)\n",
            "Requirement already satisfied: pyspellchecker in /usr/local/lib/python3.10/dist-packages (0.8.1)\n",
            "Requirement already satisfied: soupsieve>1.2 in /usr/local/lib/python3.10/dist-packages (from beautifulsoup4) (2.5)\n"
          ]
        }
      ],
      "source": [
        "# Instalação de pacotes para raspagem e análise de dados.\n",
        "!pip install beautifulsoup4 pyspellchecker"
      ]
    },
    {
      "cell_type": "code",
      "source": [
        "# Importa módulos essenciais para funcionalidades do notebook.\n",
        "from bs4 import BeautifulSoup\n",
        "from spellchecker import SpellChecker\n",
        "\n",
        "print(formata_msg(\"INFO\", \"Bibliotecas importadas com sucesso; ambiente pronto.\"))"
      ],
      "metadata": {
        "colab": {
          "base_uri": "https://localhost:8080/"
        },
        "id": "Y4MSqiuliJNk",
        "outputId": "05481769-add7-42b3-8dd2-28b87f907156"
      },
      "execution_count": 65,
      "outputs": [
        {
          "output_type": "stream",
          "name": "stdout",
          "text": [
            "[INFO] 2024-02-11 14:19:01: Bibliotecas importadas com sucesso; ambiente pronto.\n"
          ]
        }
      ]
    },
    {
      "cell_type": "code",
      "source": [
        "# Declara define funções utilitárias utilizadas no notebook.\n",
        "import datetime\n",
        "def formata_msg(nivel, msg):\n",
        "    \"\"\"\n",
        "    Formata uma mensagem de log incluindo o nível de severidade, timestamp\n",
        "    e a mensagem.\n",
        "\n",
        "    Parâmetros:\n",
        "    - nivel (str): Nível de severidade da mensagem (ex: 'INFO', 'ERROR', 'WARNING').\n",
        "    - msg (str): A mensagem de log propriamente dita.\n",
        "\n",
        "    Retorna:\n",
        "    - str: A mensagem de log formatada.\n",
        "    \"\"\"\n",
        "    timestamp = datetime.datetime.now().strftime('%Y-%m-%d %H:%M:%S')\n",
        "\n",
        "    return f\"[{nivel}] {timestamp} - {msg}\"\n",
        "\n",
        "print(formata_msg(\"INFO\", \"Funções utilitárias prontas para utilização.\"))"
      ],
      "metadata": {
        "colab": {
          "base_uri": "https://localhost:8080/"
        },
        "id": "TEnpUAiSdLkp",
        "outputId": "36ab2ff3-03fe-409e-f376-c627911d24dd"
      },
      "execution_count": 66,
      "outputs": [
        {
          "output_type": "stream",
          "name": "stdout",
          "text": [
            "[INFO] 2024-02-11 14:19:03 - Funções utilitárias prontas para utilização.\n"
          ]
        }
      ]
    },
    {
      "cell_type": "markdown",
      "source": [
        "# Remoção de **caracteres** não imprimíveis\n",
        "Caracteres não imprimíveis, ou caracteres de controle, são fundamentais na codificação de textos, servindo para organizar e controlar a apresentação de dados sem gerar símbolos visíveis. Eles incluem **espaços**, **tabulações ('\\t')**, **quebras de linha ('\\n')** e **retornos de carro ('\\r')**, entre outros, e são usados em dispositivos e softwares para estruturar textos, controlar fluxos de dados e delimitar strings."
      ],
      "metadata": {
        "id": "-be8iXybTHX3"
      }
    },
    {
      "cell_type": "code",
      "source": [
        "texto_exemplo = \"\"\"\n",
        "A marca do home imaturo😜 é\\t\\t querer morrer de maneira nobre por alguma causa🕊️,\\n\n",
        "enquanto\\n\\n a marca do\\r home maduo🤓 é querer viver de maneira humide por uma\\n\n",
        "causa☮️.\n",
        "\"\"\""
      ],
      "metadata": {
        "id": "Fb64rOJmsLH2"
      },
      "execution_count": 109,
      "outputs": []
    },
    {
      "cell_type": "code",
      "source": [
        "html_fragmento = f\"\"\"\n",
        "<div>\n",
        "    {texto_exemplo}\n",
        "</div>\n",
        "\"\"\"\n",
        "soup = BeautifulSoup(html_fragmento, \"html.parser\")\n",
        "\n",
        "print(\"Texto original:\")\n",
        "texto_original = soup.get_text()\n",
        "print(f\"[{texto_original}]\")\n",
        "\n",
        "print(\"\\nTexto limpo:\")\n",
        "texto_limpo = ' '.join(texto_original.split())\n",
        "print(f\"[{texto_limpo}]\")"
      ],
      "metadata": {
        "colab": {
          "base_uri": "https://localhost:8080/"
        },
        "id": "mKFELcH6sWxn",
        "outputId": "1bcc7e73-8efa-4bf3-c0b4-8211448bd7f6"
      },
      "execution_count": 110,
      "outputs": [
        {
          "output_type": "stream",
          "name": "stdout",
          "text": [
            "Texto original:\n",
            "[\n",
            "\n",
            "    \n",
            "A marca do home imaturo😜 é\t\t querer morrer de maneira nobre por alguma causa🕊️,\n",
            "\n",
            "enquanto\n",
            "\n",
            " a marca do\r home maduo🤓 é querer viver de maneira humide por uma\n",
            "\n",
            "causa☮️.\n",
            "\n",
            "\n",
            "]\n",
            "\n",
            "Texto limpo:\n",
            "[A marca do home imaturo😜 é querer morrer de maneira nobre por alguma causa🕊️, enquanto a marca do home maduo🤓 é querer viver de maneira humide por uma causa☮️.]\n"
          ]
        }
      ]
    },
    {
      "cell_type": "markdown",
      "source": [
        "# Correção ortográfica\n",
        "A correção ortográfica **corrige erros de escrita**, melhorando a interpretação de textos. Essencial para análises precisas em tarefas como tradução, análise de sentimentos e assistentes virtuais, a correção ortográfica aumenta a eficácia da PLN ao garantir clareza e precisão na comunicação digital. Ela desempenha um papel fundamental na acessibilidade e na **qualidade das informações** processadas, facilitando interações mais naturais e compreensíveis entre humanos e máquinas."
      ],
      "metadata": {
        "id": "OfmdX_V4WQ_A"
      }
    },
    {
      "cell_type": "code",
      "source": [
        "corretor = SpellChecker(language='pt')\n",
        "\n",
        "# find those words that may be misspelled\n",
        "erros = spell.unknown(['ingreso', 'bola', 'futbol', 'estádio'])\n",
        "\n",
        "for erro in erros:\n",
        "    # Get the one `most likely` answer\n",
        "    correcao = corretor.correction(erro)\n",
        "\n",
        "    # Get a list of `likely` options\n",
        "    candidatas = corretor.candidates(erro)\n",
        "\n",
        "    print(f\"Palavra incorreta: {erro}, correção:{correcao}, outras opções: {candidatas}\")\n",
        ""
      ],
      "metadata": {
        "colab": {
          "base_uri": "https://localhost:8080/"
        },
        "id": "XUvLNPPAhI9I",
        "outputId": "2bf16549-f8e6-461f-ff8a-b367a97616fe"
      },
      "execution_count": 111,
      "outputs": [
        {
          "output_type": "stream",
          "name": "stdout",
          "text": [
            "Palavra incorreta: futbol, correção:futebol, outras opções: {'futebol'}\n",
            "Palavra incorreta: ingreso, correção:ingresso, outras opções: {'ingleso', 'ingresso'}\n"
          ]
        }
      ]
    },
    {
      "cell_type": "code",
      "source": [
        "def corrija_texto(texto):\n",
        "\n",
        "  corretor = SpellChecker(language=\"pt\")\n",
        "\n",
        "  texto_aux = texto[:]\n",
        "  erros = corretor.unknown(texto_aux.split(\" \"))\n",
        "\n",
        "  for i, erro in enumerate(erros):\n",
        "    texto_aux = texto_aux.replace(erro, corretor.correction(erro))\n",
        "\n",
        "  return texto_aux\n",
        "\n",
        "print(formata_msg(\"INFO\", \"Função de correção de texto pronta para utilização.\"))"
      ],
      "metadata": {
        "colab": {
          "base_uri": "https://localhost:8080/"
        },
        "id": "aupJDldGYL3M",
        "outputId": "ed215c77-96f3-41b1-b67c-1da78cfd643c"
      },
      "execution_count": 112,
      "outputs": [
        {
          "output_type": "stream",
          "name": "stdout",
          "text": [
            "[INFO] 2024-02-11 15:08:02 - Função de correção de texto pronta para utilização.\n"
          ]
        }
      ]
    },
    {
      "cell_type": "code",
      "source": [
        "print(corrija_texto(texto_limpo))"
      ],
      "metadata": {
        "colab": {
          "base_uri": "https://localhost:8080/",
          "height": 308
        },
        "id": "MJfVeNOXYuh1",
        "outputId": "4d082f49-f741-4916-a385-22dbd2d0bb77"
      },
      "execution_count": 113,
      "outputs": [
        {
          "output_type": "error",
          "ename": "TypeError",
          "evalue": "replace() argument 2 must be str, not None",
          "traceback": [
            "\u001b[0;31m---------------------------------------------------------------------------\u001b[0m",
            "\u001b[0;31mTypeError\u001b[0m                                 Traceback (most recent call last)",
            "\u001b[0;32m<ipython-input-113-a359ea4d42b4>\u001b[0m in \u001b[0;36m<cell line: 1>\u001b[0;34m()\u001b[0m\n\u001b[0;32m----> 1\u001b[0;31m \u001b[0mprint\u001b[0m\u001b[0;34m(\u001b[0m\u001b[0mcorrija_texto\u001b[0m\u001b[0;34m(\u001b[0m\u001b[0mtexto_limpo\u001b[0m\u001b[0;34m)\u001b[0m\u001b[0;34m)\u001b[0m\u001b[0;34m\u001b[0m\u001b[0;34m\u001b[0m\u001b[0m\n\u001b[0m",
            "\u001b[0;32m<ipython-input-112-177f51b6d8da>\u001b[0m in \u001b[0;36mcorrija_texto\u001b[0;34m(texto)\u001b[0m\n\u001b[1;32m      7\u001b[0m \u001b[0;34m\u001b[0m\u001b[0m\n\u001b[1;32m      8\u001b[0m   \u001b[0;32mfor\u001b[0m \u001b[0mi\u001b[0m\u001b[0;34m,\u001b[0m \u001b[0merro\u001b[0m \u001b[0;32min\u001b[0m \u001b[0menumerate\u001b[0m\u001b[0;34m(\u001b[0m\u001b[0merros\u001b[0m\u001b[0;34m)\u001b[0m\u001b[0;34m:\u001b[0m\u001b[0;34m\u001b[0m\u001b[0;34m\u001b[0m\u001b[0m\n\u001b[0;32m----> 9\u001b[0;31m     \u001b[0mtexto_aux\u001b[0m \u001b[0;34m=\u001b[0m \u001b[0mtexto_aux\u001b[0m\u001b[0;34m.\u001b[0m\u001b[0mreplace\u001b[0m\u001b[0;34m(\u001b[0m\u001b[0merro\u001b[0m\u001b[0;34m,\u001b[0m \u001b[0mcorretor\u001b[0m\u001b[0;34m.\u001b[0m\u001b[0mcorrection\u001b[0m\u001b[0;34m(\u001b[0m\u001b[0merro\u001b[0m\u001b[0;34m)\u001b[0m\u001b[0;34m)\u001b[0m\u001b[0;34m\u001b[0m\u001b[0;34m\u001b[0m\u001b[0m\n\u001b[0m\u001b[1;32m     10\u001b[0m \u001b[0;34m\u001b[0m\u001b[0m\n\u001b[1;32m     11\u001b[0m   \u001b[0;32mreturn\u001b[0m \u001b[0mtexto_aux\u001b[0m\u001b[0;34m\u001b[0m\u001b[0;34m\u001b[0m\u001b[0m\n",
            "\u001b[0;31mTypeError\u001b[0m: replace() argument 2 must be str, not None"
          ]
        }
      ]
    },
    {
      "cell_type": "markdown",
      "source": [
        "# Normalização unicode\n",
        "\n",
        "A **normalização unicode** ou **codificação de texto** converte caracteres unicode em alguma forma de representação binária para ser armazenado em um computador."
      ],
      "metadata": {
        "id": "d98hzX75Wi7S"
      }
    },
    {
      "cell_type": "code",
      "source": [
        "texto = 'Eu amo pizza 🍕!  Vamos reservar uma viagem para 🚗 Giza?'\n",
        "\n",
        "print(\"Texto original:\")\n",
        "print(texto)\n",
        "\n",
        "print(\"\\nTexto normalizado:\")\n",
        "print(texto.encode(\"utf-8\"))"
      ],
      "metadata": {
        "colab": {
          "base_uri": "https://localhost:8080/"
        },
        "id": "CYqjJr8wiCo-",
        "outputId": "f8c86def-4804-4967-c8f4-881dae14d9d1"
      },
      "execution_count": 61,
      "outputs": [
        {
          "output_type": "stream",
          "name": "stdout",
          "text": [
            "Texto original:\n",
            "Eu amo pizza 🍕!  Vamos reservar uma viagem para 🚗 Giza?\n",
            "\n",
            "Texto normalizado:\n",
            "b'Eu amo pizza \\xf0\\x9f\\x8d\\x95!  Vamos reservar uma viagem para \\xf0\\x9f\\x9a\\x97 Giza?'\n"
          ]
        }
      ]
    }
  ]
}